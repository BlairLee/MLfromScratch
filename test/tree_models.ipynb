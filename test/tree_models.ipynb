{
 "cells": [
  {
   "cell_type": "code",
   "execution_count": 1,
   "metadata": {
    "collapsed": true
   },
   "outputs": [],
   "source": [
    "import pandas as pd\n",
    "import numpy as np\n",
    "import os\n",
    "%matplotlib inline"
   ]
  },
  {
   "cell_type": "code",
   "execution_count": 2,
   "metadata": {
    "collapsed": true
   },
   "outputs": [],
   "source": [
    "from buildTest import getRegData, getClassiData\n",
    "Xr_train,Xr_val,yr_train,yr_val = getRegData()\n",
    "Xc_train,Xc_val,yc_train,yc_val = getClassiData()"
   ]
  },
  {
   "cell_type": "code",
   "execution_count": 3,
   "metadata": {
    "collapsed": true
   },
   "outputs": [],
   "source": [
    "os.chdir('../..')"
   ]
  },
  {
   "cell_type": "code",
   "execution_count": 4,
   "metadata": {},
   "outputs": [
    {
     "data": {
      "text/plain": [
       "(0.6273851474985775, 5)"
      ]
     },
     "execution_count": 4,
     "metadata": {},
     "output_type": "execute_result"
    }
   ],
   "source": [
    "from MLfromScratch.tree import DecisionTreeRegressor\n",
    "from MLfromScratch.metrics import mean_absolute_error, mean_squared_error, root_mean_squared_error, r2_score\n",
    "dtr = DecisionTreeRegressor()\n",
    "dtr.fit(Xr_train,yr_train,max_depth=5)\n",
    "dtr.score(Xr_val,yr_val),dtr.depth_"
   ]
  },
  {
   "cell_type": "code",
   "execution_count": 5,
   "metadata": {},
   "outputs": [
    {
     "name": "stdout",
     "output_type": "stream",
     "text": [
      "0.6273851474985775\n",
      "5.154827461498392\n"
     ]
    }
   ],
   "source": [
    "print(r2_score( yr_val, dtr.predict(Xr_val) ))\n",
    "print(root_mean_squared_error(yr_val, dtr.predict(Xr_val)))"
   ]
  },
  {
   "cell_type": "code",
   "execution_count": 6,
   "metadata": {},
   "outputs": [
    {
     "data": {
      "text/plain": [
       "0.9631336405529954"
      ]
     },
     "execution_count": 6,
     "metadata": {},
     "output_type": "execute_result"
    }
   ],
   "source": [
    "from MLfromScratch.tree import DecisionTreeClassifier\n",
    "dtc = DecisionTreeClassifier()\n",
    "dtc.fit(Xc_train,yc_train,max_depth=4)\n",
    "dtc.score(Xc_val,yc_val)"
   ]
  },
  {
   "cell_type": "code",
   "execution_count": 7,
   "metadata": {},
   "outputs": [
    {
     "name": "stdout",
     "output_type": "stream",
     "text": [
      "0.9631336405529954\n"
     ]
    },
    {
     "data": {
      "text/plain": [
       "array([[221,  13],\n",
       "       [  3, 197]])"
      ]
     },
     "execution_count": 7,
     "metadata": {},
     "output_type": "execute_result"
    }
   ],
   "source": [
    "from MLfromScratch.metrics import confusion_matrix, accuracy_score, roc_auc_score, roc_curve\n",
    "y_true = yc_val\n",
    "y_pred = dtc.predict(Xc_val)\n",
    "y_score = dtc.predict_proba(Xc_val)[:,1]\n",
    "print(accuracy_score(y_true,y_pred))\n",
    "confusion_matrix(y_true,y_pred)"
   ]
  },
  {
   "cell_type": "code",
   "execution_count": 8,
   "metadata": {},
   "outputs": [
    {
     "data": {
      "text/plain": [
       "0.9712393162393163"
      ]
     },
     "execution_count": 8,
     "metadata": {},
     "output_type": "execute_result"
    },
    {
     "data": {
      "image/png": "[encoded data removed]",
      "text/plain": [
       "<matplotlib.figure.Figure at 0x7fe79cb5f940>"
      ]
     },
     "metadata": {},
     "output_type": "display_data"
    }
   ],
   "source": [
    "roc_curve(y_true,y_score,plot=True)\n",
    "roc_auc_score(y_true,y_score)"
   ]
  },
  {
   "cell_type": "code",
   "execution_count": 9,
   "metadata": {},
   "outputs": [
    {
     "data": {
      "text/plain": [
       "(0.9380952380952381, 0.985, 0.985, 0.9444444444444444, 0.9609756097560974)"
      ]
     },
     "execution_count": 9,
     "metadata": {},
     "output_type": "execute_result"
    }
   ],
   "source": [
    "from MLfromScratch.metrics import precision_score, recall_score, sensitivity_score, specificity_score, f1_score\n",
    "precision_score(y_true,y_pred,), recall_score(y_true,y_pred), sensitivity_score(y_true,y_pred), specificity_score(y_true,y_pred), f1_score(y_true,y_pred)"
   ]
  }
 ],
 "metadata": {
  "kernelspec": {
   "display_name": "Python 3",
   "language": "python",
   "name": "python3"
  },
  "language_info": {
   "codemirror_mode": {
    "name": "ipython",
    "version": 3
   },
   "file_extension": ".py",
   "mimetype": "text/x-python",
   "name": "python",
   "nbconvert_exporter": "python",
   "pygments_lexer": "ipython3",
   "version": "3.6.3"
  }
 },
 "nbformat": 4,
 "nbformat_minor": 2
}
