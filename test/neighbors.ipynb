{
 "cells": [
  {
   "cell_type": "code",
   "execution_count": 1,
   "metadata": {
    "collapsed": true
   },
   "outputs": [],
   "source": [
    "import pandas as pd\n",
    "import numpy as np\n",
    "import os\n",
    "%matplotlib inline"
   ]
  },
  {
   "cell_type": "code",
   "execution_count": 2,
   "metadata": {},
   "outputs": [],
   "source": [
    "from buildTest import getRegData, getClassiData\n",
    "Xr_train,Xr_val,yr_train,yr_val = getRegData()\n",
    "Xc_train,Xc_val,yc_train,yc_val = getClassiData()"
   ]
  },
  {
   "cell_type": "code",
   "execution_count": 3,
   "metadata": {
    "collapsed": true
   },
   "outputs": [],
   "source": [
    "os.chdir('../..')"
   ]
  },
  {
   "cell_type": "code",
   "execution_count": 4,
   "metadata": {},
   "outputs": [
    {
     "data": {
      "text/plain": [
       "0.8106468587135003"
      ]
     },
     "execution_count": 4,
     "metadata": {},
     "output_type": "execute_result"
    }
   ],
   "source": [
    "from MLfromScratch.neighbors import KNeighborsRegressor\n",
    "from MLfromScratch.metrics import mean_absolute_error, mean_squared_error, root_mean_squared_error, r2_score\n",
    "knr = KNeighborsRegressor(n_neighbors=5,normalize=True)\n",
    "knr.fit(Xr_train,yr_train)\n",
    "knr.score(Xr_val,yr_val)"
   ]
  },
  {
   "cell_type": "code",
   "execution_count": 5,
   "metadata": {},
   "outputs": [
    {
     "name": "stdout",
     "output_type": "stream",
     "text": [
      "0.8106468587135003\n",
      "3.6746866334838177\n"
     ]
    }
   ],
   "source": [
    "print(r2_score( yr_val, knr.predict(Xr_val) ))\n",
    "print(root_mean_squared_error(yr_val, knr.predict(Xr_val)))"
   ]
  },
  {
   "cell_type": "code",
   "execution_count": 6,
   "metadata": {},
   "outputs": [
    {
     "data": {
      "text/plain": [
       "0.9907834101382489"
      ]
     },
     "execution_count": 6,
     "metadata": {},
     "output_type": "execute_result"
    }
   ],
   "source": [
    "from MLfromScratch.neighbors import KNeighborsClassifier\n",
    "knc = KNeighborsClassifier(n_neighbors=50)\n",
    "knc.fit(Xc_train,yc_train)\n",
    "knc.score(Xc_val,yc_val)"
   ]
  },
  {
   "cell_type": "code",
   "execution_count": 7,
   "metadata": {},
   "outputs": [
    {
     "name": "stdout",
     "output_type": "stream",
     "text": [
      "0.9907834101382489\n"
     ]
    },
    {
     "data": {
      "text/plain": [
       "array([[230,   4],\n",
       "       [  0, 200]])"
      ]
     },
     "execution_count": 7,
     "metadata": {},
     "output_type": "execute_result"
    }
   ],
   "source": [
    "from MLfromScratch.metrics import confusion_matrix, accuracy_score, roc_auc_score, roc_curve\n",
    "y_true = yc_val\n",
    "y_pred = knc.predict(Xc_val)\n",
    "y_score = knc.predict_proba(Xc_val)[:,1]\n",
    "print(accuracy_score(y_true,y_pred))\n",
    "confusion_matrix(y_true,y_pred)"
   ]
  },
  {
   "cell_type": "code",
   "execution_count": 8,
   "metadata": {},
   "outputs": [
    {
     "data": {
      "text/plain": [
       "0.9997863247863248"
      ]
     },
     "execution_count": 8,
     "metadata": {},
     "output_type": "execute_result"
    },
    {
     "data": {
      "image/png": "[encoded data removed]",
      "text/plain": [
       "<matplotlib.figure.Figure at 0x7ff34f83d940>"
      ]
     },
     "metadata": {},
     "output_type": "display_data"
    }
   ],
   "source": [
    "roc_curve(y_true,y_score,plot=True)\n",
    "roc_auc_score(y_true,y_score)"
   ]
  },
  {
   "cell_type": "code",
   "execution_count": 9,
   "metadata": {},
   "outputs": [
    {
     "data": {
      "text/plain": [
       "(0.9803921568627451, 1.0, 1.0, 0.9829059829059829, 0.99009900990099)"
      ]
     },
     "execution_count": 9,
     "metadata": {},
     "output_type": "execute_result"
    }
   ],
   "source": [
    "from MLfromScratch.metrics import precision_score, recall_score, sensitivity_score, specificity_score, f1_score\n",
    "precision_score(y_true,y_pred,), recall_score(y_true,y_pred), sensitivity_score(y_true,y_pred), specificity_score(y_true,y_pred), f1_score(y_true,y_pred)"
   ]
  },
  {
   "cell_type": "code",
   "execution_count": null,
   "metadata": {
    "collapsed": true
   },
   "outputs": [],
   "source": []
  }
 ],
 "metadata": {
  "kernelspec": {
   "display_name": "Python 3",
   "language": "python",
   "name": "python3"
  },
  "language_info": {
   "codemirror_mode": {
    "name": "ipython",
    "version": 3
   },
   "file_extension": ".py",
   "mimetype": "text/x-python",
   "name": "python",
   "nbconvert_exporter": "python",
   "pygments_lexer": "ipython3",
   "version": "3.6.3"
  }
 },
 "nbformat": 4,
 "nbformat_minor": 2
}
